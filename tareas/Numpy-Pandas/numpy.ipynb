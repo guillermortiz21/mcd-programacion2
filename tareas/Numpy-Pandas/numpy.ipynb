{
 "cells": [
  {
   "cell_type": "code",
   "execution_count": 2,
   "metadata": {},
   "outputs": [],
   "source": [
    "a = [1,2,3,4,5,7]"
   ]
  },
  {
   "cell_type": "code",
   "execution_count": 3,
   "metadata": {},
   "outputs": [
    {
     "data": {
      "text/plain": [
       "[1, 2, 3, 4, 5, 7]"
      ]
     },
     "execution_count": 3,
     "metadata": {},
     "output_type": "execute_result"
    }
   ],
   "source": [
    "a"
   ]
  },
  {
   "cell_type": "code",
   "execution_count": 4,
   "metadata": {},
   "outputs": [
    {
     "data": {
      "text/plain": [
       "[1, 2, 3, 4, 5, 7, 1, 2, 3, 4, 5, 7]"
      ]
     },
     "execution_count": 4,
     "metadata": {},
     "output_type": "execute_result"
    }
   ],
   "source": [
    "c = 2 * a\n",
    "c"
   ]
  },
  {
   "cell_type": "markdown",
   "metadata": {},
   "source": [
    "Duplicó el array a"
   ]
  },
  {
   "cell_type": "code",
   "execution_count": 5,
   "metadata": {},
   "outputs": [],
   "source": [
    "d = [3,5,6,9,7,8]"
   ]
  },
  {
   "cell_type": "code",
   "execution_count": 6,
   "metadata": {},
   "outputs": [
    {
     "data": {
      "text/plain": [
       "[1, 2, 3, 4, 5, 7, 3, 5, 6, 9, 7, 8]"
      ]
     },
     "execution_count": 6,
     "metadata": {},
     "output_type": "execute_result"
    }
   ],
   "source": [
    "e = a + d\n",
    "e"
   ]
  },
  {
   "cell_type": "markdown",
   "metadata": {},
   "source": [
    "Concatenó los dos arrays"
   ]
  },
  {
   "cell_type": "markdown",
   "metadata": {},
   "source": [
    "Los métodos anteriores son de listas de python, sin usar numpy.\n",
    "\n",
    "Se puede ver que su comportamiento no fue exactamente el deseado.\n",
    "\n",
    "Numpy maneja mejor estas operaciones de vectores."
   ]
  },
  {
   "cell_type": "markdown",
   "metadata": {},
   "source": [
    "## Funciones de numpy"
   ]
  },
  {
   "cell_type": "code",
   "execution_count": 7,
   "metadata": {},
   "outputs": [],
   "source": [
    "import numpy as np"
   ]
  },
  {
   "cell_type": "code",
   "execution_count": 8,
   "metadata": {},
   "outputs": [
    {
     "name": "stdout",
     "output_type": "stream",
     "text": [
      "[ 4  8 11 14 18]\n",
      "<class 'numpy.ndarray'>\n",
      "(5,)\n"
     ]
    }
   ],
   "source": [
    "a = np.array([1,3,5,7,9])\n",
    "b = np.array([3,5,6,7,9])\n",
    "\n",
    "c = a + b\n",
    "\n",
    "print(c)\n",
    "print(type(c))\n",
    "print(c.shape)"
   ]
  },
  {
   "cell_type": "markdown",
   "metadata": {},
   "source": [
    "Ahora sí hace una suma correcta de vectores"
   ]
  },
  {
   "cell_type": "code",
   "execution_count": 9,
   "metadata": {},
   "outputs": [
    {
     "name": "stdout",
     "output_type": "stream",
     "text": [
      "[[1 2 3]\n",
      " [3 6 9]\n",
      " [2 4 6]]\n",
      "(3, 3)\n",
      "int64\n"
     ]
    }
   ],
   "source": [
    "l = [[1,2,3],[3,6,9],[2,4,6]] # Crear una lista de listas\n",
    "a = np.array(l) # Convierte la lista a un array de numpy\n",
    "print(a)\n",
    "print(a.shape)\n",
    "print(a.dtype)"
   ]
  },
  {
   "cell_type": "markdown",
   "metadata": {},
   "source": [
    "También se pueden importar directamente como una matriz"
   ]
  },
  {
   "cell_type": "code",
   "execution_count": 10,
   "metadata": {},
   "outputs": [
    {
     "name": "stdout",
     "output_type": "stream",
     "text": [
      "(2, 2)\n",
      "int64\n"
     ]
    }
   ],
   "source": [
    "M = np.array([[1,2],[3,4]])\n",
    "print(M.shape)\n",
    "print(M.dtype)"
   ]
  },
  {
   "cell_type": "markdown",
   "metadata": {},
   "source": [
    "Uso de matrices"
   ]
  },
  {
   "cell_type": "code",
   "execution_count": 11,
   "metadata": {},
   "outputs": [
    {
     "name": "stdout",
     "output_type": "stream",
     "text": [
      "[[1 2 3]\n",
      " [3 6 9]\n",
      " [2 4 6]]\n",
      "[1 2 3]\n",
      "9\n",
      "[6 9]\n",
      "[2 6 4]\n",
      "9\n",
      "7\n",
      "[[1 2 3]\n",
      " [3 6 7]\n",
      " [2 4 6]]\n",
      "[[0 2 3]\n",
      " [9 6 7]\n",
      " [8 4 6]]\n"
     ]
    }
   ],
   "source": [
    "print(a)\n",
    "print(a[0]) # Obtengo solo el primer elemento de la matriz.\n",
    "print(a[1,2]) # De la segunda fila, el tercer elemento\n",
    "print(a[1,1:3]) # De la segunda fila, del segundo al tercer elemento\n",
    "print(a[:,1]) # obtener segunda columna\n",
    "# También se pueden sobreescribir los elementos que ya están en la matriz\n",
    "print(a[1,2]) # Aquí es 9\n",
    "a[1,2] = 7\n",
    "print(a[1,2]) # Ahora es 7\n",
    "print(a)\n",
    "# También puedo modificar una columna\n",
    "a[:,0] = [0,9,8]\n",
    "print(a)\n"
   ]
  },
  {
   "cell_type": "markdown",
   "metadata": {},
   "source": [
    "Funcionas generadoras en numpy"
   ]
  },
  {
   "cell_type": "code",
   "execution_count": 12,
   "metadata": {},
   "outputs": [
    {
     "name": "stdout",
     "output_type": "stream",
     "text": [
      "[0 1 2 3 4 5 6 7 8 9]\n",
      "[ 0.          0.41666667  0.83333333  1.25        1.66666667  2.08333333\n",
      "  2.5         2.91666667  3.33333333  3.75        4.16666667  4.58333333\n",
      "  5.          5.41666667  5.83333333  6.25        6.66666667  7.08333333\n",
      "  7.5         7.91666667  8.33333333  8.75        9.16666667  9.58333333\n",
      " 10.        ]\n",
      "[1.00000000e+00 3.03773178e+00 9.22781435e+00 2.80316249e+01\n",
      " 8.51525577e+01 2.58670631e+02 7.85771994e+02 2.38696456e+03\n",
      " 7.25095809e+03 2.20264658e+04]\n"
     ]
    }
   ],
   "source": [
    "x = np.arange(0,10,1)\n",
    "print(x) # Se hizo un array del 0 al 9\n",
    "print(np.linspace(0,10,25)) # Hacer 25 números con saltos iguales, del 0 al 10\n",
    "print(np.logspace(0,10,10, base=np.e)) # Hacer números separados con escala logarítmica.\n"
   ]
  },
  {
   "cell_type": "code",
   "execution_count": 13,
   "metadata": {},
   "outputs": [
    {
     "name": "stdout",
     "output_type": "stream",
     "text": [
      "[[1 0 0]\n",
      " [0 2 0]\n",
      " [0 0 3]]\n",
      "[0. 0. 0. 0. 0.]\n",
      "float64\n",
      "int64\n",
      "[[1. 1. 1.]\n",
      " [1. 1. 1.]\n",
      " [1. 1. 1.]]\n"
     ]
    }
   ],
   "source": [
    "print(np.diag([1,2,3])) # Hacer matriz diagonal con 1,2,3 en su diagonal.\n",
    "b = np.zeros(5) # Hacer arreglo con 5 ceros.\n",
    "print(b)\n",
    "print(b.dtype)\n",
    "n = 1000\n",
    "my_int_array = np.zeros(n, dtype=int) # Hacer array de 1000 ceros, en forma entera\n",
    "print(my_int_array.dtype)\n",
    "\n",
    "c = np.ones((3,3)) # Hacer matriz de 3x3, con solamente unos.\n",
    "print(c)"
   ]
  },
  {
   "cell_type": "code",
   "execution_count": 14,
   "metadata": {},
   "outputs": [
    {
     "name": "stdout",
     "output_type": "stream",
     "text": [
      "[0 1 2 3 4]\n",
      "[0 9 2 3 4]\n",
      "[0.  3.6 0.8 1.2 1.6]\n",
      "[0. 1. 2. 3. 4.]\n"
     ]
    },
    {
     "data": {
      "text/plain": [
       "array([3. , 3.5, 4. , 4.5, 5. , 5.5, 6. , 6.5])"
      ]
     },
     "execution_count": 14,
     "metadata": {},
     "output_type": "execute_result"
    }
   ],
   "source": [
    "d = np.arange(5)\n",
    "print(d)\n",
    "\n",
    "d[1] = 9.7 # Intento asignar un flotante al array\n",
    "print(d) # Pero el tipo entero se mantiene\n",
    "\n",
    "print(d*0.4) # En operaciones, sí se cambia el tipo, pero es en un nuevo array.\n",
    "\n",
    "d = np.arange(5, dtype=float) # Así puedo hacer el array con flotantes\n",
    "print(d)\n",
    "\n",
    "np.arange(3,7,0.5) # Hacer array del 3 al 7, con saltos de 0.5"
   ]
  },
  {
   "cell_type": "code",
   "execution_count": 15,
   "metadata": {},
   "outputs": [
    {
     "name": "stdout",
     "output_type": "stream",
     "text": [
      "[[0 0 0 0 0]\n",
      " [1 1 1 1 1]\n",
      " [2 2 2 2 2]\n",
      " [3 3 3 3 3]\n",
      " [4 4 4 4 4]]\n",
      "[[0 1 2 3 4]\n",
      " [0 1 2 3 4]\n",
      " [0 1 2 3 4]\n",
      " [0 1 2 3 4]\n",
      " [0 1 2 3 4]]\n"
     ]
    }
   ],
   "source": [
    "x,y = np.mgrid[0:5, 0:5]\n",
    "# Hace dos matrices 5x5.\n",
    "# La primera con filas con todos 0, todos 1,,,,\n",
    "print(x)\n",
    "# Y la segunda con columnas todos 0, todos 1...\n",
    "print(y)"
   ]
  },
  {
   "cell_type": "code",
   "execution_count": 16,
   "metadata": {},
   "outputs": [],
   "source": [
    "import os\n",
    "os.system(\"head DeBilt.txt\")\n",
    "# Leer archivo\n",
    "data = np.genfromtxt(\"DeBilt.txt\")\n",
    "data.shape\n",
    "\n",
    "# Esto guarda el dataset en un archivo\n",
    "np.savetxt('datasaved.txt', data)"
   ]
  },
  {
   "cell_type": "code",
   "execution_count": 19,
   "metadata": {},
   "outputs": [
    {
     "name": "stdout",
     "output_type": "stream",
     "text": [
      "[[0.2775558  0.52859779 0.69912727]\n",
      " [0.4989252  0.51239227 0.0917937 ]\n",
      " [0.07647654 0.76731232 0.58604157]]\n"
     ]
    },
    {
     "data": {
      "text/plain": [
       "array([[0.2775558 , 0.52859779, 0.69912727],\n",
       "       [0.4989252 , 0.51239227, 0.0917937 ],\n",
       "       [0.07647654, 0.76731232, 0.58604157]])"
      ]
     },
     "execution_count": 19,
     "metadata": {},
     "output_type": "execute_result"
    }
   ],
   "source": [
    "M = np.random.rand(3,3) # Crear matriz 3x3 con valores random\n",
    "print(M)\n",
    "\n",
    "np.save('saved-matriz.npy', M) # Guardar matriz en archivo\n",
    "np.load('saved-matriz.npy') # Cargar archivo npy"
   ]
  },
  {
   "cell_type": "code",
   "execution_count": 33,
   "metadata": {},
   "outputs": [
    {
     "name": "stdout",
     "output_type": "stream",
     "text": [
      "[0. 1. 2. 3.]\n",
      "[ 0.  23.4 46.8 70.2]\n",
      "[ 0.   11.7  15.6  17.55]\n",
      "[10.   21.7  25.6  27.55]\n",
      "[105 125 150 175 195]\n",
      "[[10 11 12 13 14]\n",
      " [15 16 17 18 19]]\n"
     ]
    }
   ],
   "source": [
    "a = np.arange(4.0) # Array del 0 al 3\n",
    "print(a)\n",
    "b = a * 23.4 # Multiplicación por escalar\n",
    "print(b)\n",
    "c = b / (a+1)\n",
    "print(c) # División por escalar, primero se hizo una suma + 1 a todo a\n",
    "c += 10\n",
    "print(c) # Sumarle 10 a todos los elementos de c\n",
    "\n",
    "arr = np.arange(100,200) # Array de 100 elementos del 100 al 199\n",
    "select = [5,25,50,75,-5]\n",
    "print(arr[select]) # Mostrar los elementos en los indices 5,25,...,-5 de arr\n",
    "\n",
    "# Primero hace un array con 10 elementos del 10 al 19, luego lo convierte\n",
    "# a una matriz de 2x5\n",
    "arr = np.arange(10,20).reshape((2,5))\n",
    "print(arr)"
   ]
  },
  {
   "cell_type": "code",
   "execution_count": 37,
   "metadata": {},
   "outputs": [
    {
     "name": "stdout",
     "output_type": "stream",
     "text": [
      "145\n",
      "14.5\n",
      "2.8722813232690143\n",
      "19\n",
      "10\n"
     ]
    }
   ],
   "source": [
    "print(arr.sum()) # Suma todos los elementos de la matriz\n",
    "print(arr.mean()) # Promedio de todos los elementos en la matriz\n",
    "print(arr.std()) # Desviación estandar de la matriz\n",
    "print(arr.max()) # Máximo de la matriz\n",
    "print(arr.min()) # Mínimo de la matriz"
   ]
  },
  {
   "cell_type": "code",
   "execution_count": 42,
   "metadata": {},
   "outputs": [
    {
     "name": "stdout",
     "output_type": "stream",
     "text": [
      "[1.2 1.8 2.3 4.5 5.5 6.7]\n",
      "[4.5 2.3 6.7 1.2 1.8 5.5]\n"
     ]
    }
   ],
   "source": [
    "arr = np.array([4.5, 2.3, 6.7, 1.2, 1.8, 5.5])\n",
    "arr.sort() # Ordenar array\n",
    "print(arr)\n",
    "\n",
    "x = np.array([4.5, 2.3, 6.7, 1.2, 1.8, 5.5])\n",
    "np.sort(x)\n",
    "print(x)\n",
    "\n",
    "# .sort() modifica el array, np.sort() no\n"
   ]
  },
  {
   "cell_type": "code",
   "execution_count": 50,
   "metadata": {},
   "outputs": [
    {
     "name": "stdout",
     "output_type": "stream",
     "text": [
      "[[1. 2.]\n",
      " [4. 3.]]\n",
      "[[1. 4.]\n",
      " [2. 3.]]\n",
      "[[1. 0.]\n",
      " [0. 1.]]\n"
     ]
    },
    {
     "data": {
      "text/plain": [
       "array([[-1.,  0.],\n",
       "       [ 0., -1.]])"
      ]
     },
     "execution_count": 50,
     "metadata": {},
     "output_type": "execute_result"
    }
   ],
   "source": [
    "a = np.array([[1.0, 2.0], [4.0,3.0]])\n",
    "print(a)\n",
    "print(a.transpose()) # Transpuesta de matriz\n",
    "# print(np.inv(a)) # Inversa de matriz\n",
    "u = np.eye(2)\n",
    "print(u)\n",
    "\n",
    "j = np.array([[0.0,-1.0],[1.0,0.0]])\n",
    "np.dot(j,j)\n"
   ]
  },
  {
   "cell_type": "code",
   "execution_count": 62,
   "metadata": {},
   "outputs": [
    {
     "name": "stdout",
     "output_type": "stream",
     "text": [
      "[6. 4. 9.]\n",
      "[-4.  0. -3.]\n",
      "[ 5.  4. 18.]\n",
      "[5. 1. 2.]\n",
      "[1. 0. 3.]\n",
      "[  1.   4. 729.]\n",
      "[[1. 2.]\n",
      " [3. 4.]\n",
      " [5. 6.]]\n",
      "[-1.  3.]\n",
      "[[0. 5.]\n",
      " [2. 7.]\n",
      " [4. 9.]]\n",
      "[[ 1.  4.]\n",
      " [ 9. 16.]\n",
      " [25. 36.]]\n",
      "[1. 9.]\n",
      "[[-1.  6.]\n",
      " [-3. 12.]\n",
      " [-5. 18.]]\n"
     ]
    }
   ],
   "source": [
    "a = np.array([1,2,3], float)\n",
    "b = np.array([5,2,6], float)\n",
    "print(a+b) # Suma vectores\n",
    "print(a-b) # resta\n",
    "print(a*b) # multiplicación\n",
    "print(b/a) # división\n",
    "print(a%b) # modulo\n",
    "print(a**b) # potencia\n",
    "\n",
    "a = np.array([[1,2], [3,4], [5,6]], float)\n",
    "b = np.array([-1,3], float)\n",
    "print(a)\n",
    "print(b)\n",
    "\n",
    "print(a+b) # Suma de matriz + vector\n",
    "\n",
    "print(a * a) # Multiplicación matrices\n",
    " \n",
    "print(b*b) # Multiplicación vectores\n",
    "\n",
    "print(a*b) # matriz por vector\n"
   ]
  }
 ],
 "metadata": {
  "kernelspec": {
   "display_name": "programacion2",
   "language": "python",
   "name": "python3"
  },
  "language_info": {
   "codemirror_mode": {
    "name": "ipython",
    "version": 3
   },
   "file_extension": ".py",
   "mimetype": "text/x-python",
   "name": "python",
   "nbconvert_exporter": "python",
   "pygments_lexer": "ipython3",
   "version": "3.10.16"
  }
 },
 "nbformat": 4,
 "nbformat_minor": 2
}
