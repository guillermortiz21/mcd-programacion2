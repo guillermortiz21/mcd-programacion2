{
 "cells": [
  {
   "cell_type": "markdown",
   "metadata": {},
   "source": [
    "# Pandas"
   ]
  },
  {
   "cell_type": "code",
   "execution_count": 23,
   "metadata": {},
   "outputs": [],
   "source": [
    "import numpy as np\n",
    "import pandas as pd"
   ]
  },
  {
   "cell_type": "code",
   "execution_count": 2,
   "metadata": {},
   "outputs": [
    {
     "name": "stdout",
     "output_type": "stream",
     "text": [
      "0     Matemáticas\n",
      "1        Historia\n",
      "2        Economía\n",
      "3    Programación\n",
      "4          Inglés\n",
      "dtype: string\n"
     ]
    }
   ],
   "source": [
    "# Crear una serie en Pandas\n",
    "# Una serie es equivalente a una columna de una tabla sql.\n",
    "\n",
    "s = pd.Series(\n",
    "    ['Matemáticas', 'Historia','Economía', 'Programación', 'Inglés'],\n",
    "    dtype='string'\n",
    ")\n",
    "\n",
    "print(s)"
   ]
  },
  {
   "cell_type": "code",
   "execution_count": 7,
   "metadata": {},
   "outputs": [
    {
     "name": "stdout",
     "output_type": "stream",
     "text": [
      "Matemáticas     6.0\n",
      "Economía        4.5\n",
      "Programación    8.5\n",
      "dtype: float64\n"
     ]
    }
   ],
   "source": [
    "# También se pueden crear series como diccionarios.\n",
    "\n",
    "s = pd.Series({\n",
    "    'Matemáticas': 6.0,\n",
    "    'Economía': 4.5,\n",
    "    'Programación': 8.5\n",
    "})\n",
    "\n",
    "print(s)"
   ]
  },
  {
   "cell_type": "code",
   "execution_count": 5,
   "metadata": {},
   "outputs": [
    {
     "name": "stdout",
     "output_type": "stream",
     "text": [
      "10\n",
      "RangeIndex(start=0, stop=10, step=1)\n",
      "int64\n"
     ]
    }
   ],
   "source": [
    "# Con size, index y dtype podemos ver características de la serie\n",
    "\n",
    "s = pd.Series([1,2,2,3,3,3,4,4,4,4])\n",
    "print(s.size)\n",
    "print(s.index)\n",
    "print(s.dtype)"
   ]
  },
  {
   "cell_type": "code",
   "execution_count": 10,
   "metadata": {},
   "outputs": [
    {
     "name": "stdout",
     "output_type": "stream",
     "text": [
      "Economía        4.5\n",
      "Programación    8.5\n",
      "dtype: float64\n",
      "4.5\n",
      "Programación    8.5\n",
      "Matemáticas     6.0\n",
      "dtype: float64\n"
     ]
    }
   ],
   "source": [
    "# Acceso a las series con índices\n",
    "print(s[1:3]) # Obtener los elementos con índices 1 y 2.\n",
    "print(s['Economía'])\n",
    "print(s[['Programación','Matemáticas']])"
   ]
  },
  {
   "cell_type": "markdown",
   "metadata": {},
   "source": [
    "Hay funciones de pandas que permiten ver las características de las series:\n",
    "\n",
    "- s.count()\n",
    "- s.sum()\n",
    "- s.cumsum()\n",
    "- s.value_counts()\n",
    "- s.min()\n",
    "- s.max()\n",
    "- s.mean()\n",
    "- s.var()\n",
    "- s.std()\n",
    "- s.describe()"
   ]
  },
  {
   "cell_type": "code",
   "execution_count": 17,
   "metadata": {},
   "outputs": [
    {
     "name": "stdout",
     "output_type": "stream",
     "text": [
      "0    2\n",
      "1    4\n",
      "2    6\n",
      "3    8\n",
      "dtype: int64\n",
      "0    1\n",
      "1    0\n",
      "2    1\n",
      "3    0\n",
      "dtype: int64\n",
      "0    aaaaa\n",
      "1    bbbbb\n",
      "2    ccccc\n",
      "dtype: object\n"
     ]
    }
   ],
   "source": [
    "# En pandas se puede hacer aritmética con las series, usando operadores binarios\n",
    "\n",
    "s = pd.Series([1,2,3,4])\n",
    "print(s * 2) # Multiplica por 2 todos los elementos\n",
    "print(s % 2) # Módulo 2 a todos los elementos\n",
    "\n",
    "s = pd.Series(['a','b','c'])\n",
    "print(s*5) # Pone cada letra 5 veces"
   ]
  },
  {
   "cell_type": "code",
   "execution_count": 19,
   "metadata": {},
   "outputs": [
    {
     "data": {
      "text/plain": [
       "0    A\n",
       "1    B\n",
       "2    C\n",
       "dtype: object"
      ]
     },
     "execution_count": 19,
     "metadata": {},
     "output_type": "execute_result"
    }
   ],
   "source": [
    "# La función s.apply(f) permite aplicarle una función a cada uno de los elementos\n",
    "# de una serie. Esa función está definida en f\n",
    "\n",
    "from math import log\n",
    "s = pd.Series([1,2,3,4])\n",
    "s.apply(log) # Le aplica un logoratimo a cada elemento del array.\n",
    "\n",
    "s = pd.Series(['a','b','c'])\n",
    "s.apply(str.upper) # Hace mayúscula cada elemento"
   ]
  },
  {
   "cell_type": "code",
   "execution_count": 20,
   "metadata": {},
   "outputs": [
    {
     "name": "stdout",
     "output_type": "stream",
     "text": [
      "Matemáticas     6.0\n",
      "Programación    8.5\n",
      "dtype: float64\n"
     ]
    }
   ],
   "source": [
    "# Filtrar una serie en pandas se puede filtrar usando la sintaxis s[condición].\n",
    "# La condición debe ser una lista de valores booleanos, de la misma longitud\n",
    "# que la serie\n",
    "\n",
    "s = pd.Series({\n",
    "    'Matemáticas': 6.0,\n",
    "    'Economía': 4.5,\n",
    "    'Programación': 8.5\n",
    "})\n",
    "\n",
    "print(s[s > 5])"
   ]
  },
  {
   "cell_type": "code",
   "execution_count": 22,
   "metadata": {},
   "outputs": [
    {
     "name": "stdout",
     "output_type": "stream",
     "text": [
      "Economía        4.5\n",
      "Matemáticas     6.0\n",
      "Programación    8.5\n",
      "dtype: float64\n",
      "Programación    8.5\n",
      "Matemáticas     6.0\n",
      "Economía        4.5\n",
      "dtype: float64\n"
     ]
    }
   ],
   "source": [
    "# Se pueden ordenar series con las funciones sort_values() y sort_index()\n",
    "print(s.sort_values())\n",
    "print(s.sort_values(ascending=False))"
   ]
  },
  {
   "cell_type": "code",
   "execution_count": 27,
   "metadata": {},
   "outputs": [
    {
     "name": "stdout",
     "output_type": "stream",
     "text": [
      "0       a\n",
      "1       b\n",
      "2    None\n",
      "3       c\n",
      "4     NaN\n",
      "5       d\n",
      "dtype: object\n"
     ]
    },
    {
     "data": {
      "text/plain": [
       "0    a\n",
       "1    b\n",
       "3    c\n",
       "5    d\n",
       "dtype: object"
      ]
     },
     "execution_count": 27,
     "metadata": {},
     "output_type": "execute_result"
    }
   ],
   "source": [
    "# Se pueden eliminar datos nulos como los NaN o los None usando la función\n",
    "# dropna()\n",
    "s = pd.Series(['a', 'b', None, 'c', np.nan, 'd'])\n",
    "print(s)\n",
    "s.dropna() # Ahora ya no tiene el None ni el NaN"
   ]
  }
 ],
 "metadata": {
  "kernelspec": {
   "display_name": "tsi_ml_env",
   "language": "python",
   "name": "python3"
  },
  "language_info": {
   "codemirror_mode": {
    "name": "ipython",
    "version": 3
   },
   "file_extension": ".py",
   "mimetype": "text/x-python",
   "name": "python",
   "nbconvert_exporter": "python",
   "pygments_lexer": "ipython3",
   "version": "3.10.16"
  }
 },
 "nbformat": 4,
 "nbformat_minor": 2
}
