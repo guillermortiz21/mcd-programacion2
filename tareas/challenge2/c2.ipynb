{
 "cells": [
  {
   "cell_type": "markdown",
   "id": "94e3f3ab",
   "metadata": {},
   "source": [
    "# Programación 2\n",
    "# Maestría en Ciencia de Datos\n",
    "# Challenge 2\n",
    "# Guillermo Ortiz Macías"
   ]
  },
  {
   "cell_type": "code",
   "execution_count": 1,
   "id": "bac63538",
   "metadata": {},
   "outputs": [
    {
     "name": "stderr",
     "output_type": "stream",
     "text": [
      "c:\\Users\\memor\\Documents\\Master\\Materias\\Semestre2\\Programacion2\\mcd-programacion2\\tareas\\challenge2\\.venv_c2\\Lib\\site-packages\\tqdm\\auto.py:21: TqdmWarning: IProgress not found. Please update jupyter and ipywidgets. See https://ipywidgets.readthedocs.io/en/stable/user_install.html\n",
      "  from .autonotebook import tqdm as notebook_tqdm\n"
     ]
    }
   ],
   "source": [
    "# Python libraries\n",
    "import pandas as pd\n",
    "import numpy as np\n",
    "from sklearn.model_selection import train_test_split\n",
    "from transformers import AutoTokenizer, AutoModelForSequenceClassification\n",
    "from sklearn.metrics import confusion_matrix, precision_score, accuracy_score\n",
    "import torch"
   ]
  },
  {
   "cell_type": "markdown",
   "id": "19bfc588",
   "metadata": {},
   "source": [
    "Se instaló pytorch desde el sitio web https://pytorch.org/get-started/locally/ utilizando el comando de pip que me dio la misma página:\n",
    "\n",
    "`pip install torch torchvision torchaudio`"
   ]
  },
  {
   "cell_type": "markdown",
   "id": "816c18c4",
   "metadata": {},
   "source": [
    "También se instalaron, con pip:\n",
    "\n",
    "- transformers: Para importar el modelo de lenguaje BERT. Específicamente _bert-base-multilingual-uncased-sentiment_\n",
    "- pandas\n",
    "- numpy"
   ]
  },
  {
   "cell_type": "code",
   "execution_count": 2,
   "id": "ae2bf86d",
   "metadata": {},
   "outputs": [
    {
     "data": {
      "text/html": [
       "<div>\n",
       "<style scoped>\n",
       "    .dataframe tbody tr th:only-of-type {\n",
       "        vertical-align: middle;\n",
       "    }\n",
       "\n",
       "    .dataframe tbody tr th {\n",
       "        vertical-align: top;\n",
       "    }\n",
       "\n",
       "    .dataframe thead th {\n",
       "        text-align: right;\n",
       "    }\n",
       "</style>\n",
       "<table border=\"1\" class=\"dataframe\">\n",
       "  <thead>\n",
       "    <tr style=\"text-align: right;\">\n",
       "      <th></th>\n",
       "      <th>firm</th>\n",
       "      <th>date_review</th>\n",
       "      <th>job_title</th>\n",
       "      <th>current</th>\n",
       "      <th>location</th>\n",
       "      <th>overall_rating</th>\n",
       "      <th>work_life_balance</th>\n",
       "      <th>culture_values</th>\n",
       "      <th>diversity_inclusion</th>\n",
       "      <th>career_opp</th>\n",
       "      <th>comp_benefits</th>\n",
       "      <th>senior_mgmt</th>\n",
       "      <th>recommend</th>\n",
       "      <th>ceo_approv</th>\n",
       "      <th>outlook</th>\n",
       "      <th>headline</th>\n",
       "      <th>pros</th>\n",
       "      <th>cons</th>\n",
       "    </tr>\n",
       "  </thead>\n",
       "  <tbody>\n",
       "    <tr>\n",
       "      <th>0</th>\n",
       "      <td>AFH-Wealth-Management</td>\n",
       "      <td>2015-04-05</td>\n",
       "      <td></td>\n",
       "      <td>Current Employee</td>\n",
       "      <td>NaN</td>\n",
       "      <td>2</td>\n",
       "      <td>4.0</td>\n",
       "      <td>3.0</td>\n",
       "      <td>NaN</td>\n",
       "      <td>2.0</td>\n",
       "      <td>3.0</td>\n",
       "      <td>3.0</td>\n",
       "      <td>x</td>\n",
       "      <td>o</td>\n",
       "      <td>r</td>\n",
       "      <td>Young colleagues, poor micro management</td>\n",
       "      <td>Very friendly and welcoming to new staff. Easy...</td>\n",
       "      <td>Poor salaries, poor training and communication.</td>\n",
       "    </tr>\n",
       "    <tr>\n",
       "      <th>1</th>\n",
       "      <td>AFH-Wealth-Management</td>\n",
       "      <td>2015-12-11</td>\n",
       "      <td>Office Administrator</td>\n",
       "      <td>Current Employee, more than 1 year</td>\n",
       "      <td>Bromsgrove, England, England</td>\n",
       "      <td>2</td>\n",
       "      <td>3.0</td>\n",
       "      <td>1.0</td>\n",
       "      <td>NaN</td>\n",
       "      <td>2.0</td>\n",
       "      <td>1.0</td>\n",
       "      <td>4.0</td>\n",
       "      <td>x</td>\n",
       "      <td>o</td>\n",
       "      <td>r</td>\n",
       "      <td>Excellent staff, poor salary</td>\n",
       "      <td>Friendly, helpful and hard-working colleagues</td>\n",
       "      <td>Poor salary which doesn't improve much with pr...</td>\n",
       "    </tr>\n",
       "    <tr>\n",
       "      <th>2</th>\n",
       "      <td>AFH-Wealth-Management</td>\n",
       "      <td>2016-01-28</td>\n",
       "      <td>Office Administrator</td>\n",
       "      <td>Current Employee, less than 1 year</td>\n",
       "      <td>Bromsgrove, England, England</td>\n",
       "      <td>1</td>\n",
       "      <td>1.0</td>\n",
       "      <td>1.0</td>\n",
       "      <td>NaN</td>\n",
       "      <td>1.0</td>\n",
       "      <td>1.0</td>\n",
       "      <td>1.0</td>\n",
       "      <td>x</td>\n",
       "      <td>o</td>\n",
       "      <td>x</td>\n",
       "      <td>Low salary, bad micromanagement</td>\n",
       "      <td>Easy to get the job even without experience in...</td>\n",
       "      <td>Very low salary, poor working conditions, very...</td>\n",
       "    </tr>\n",
       "    <tr>\n",
       "      <th>3</th>\n",
       "      <td>AFH-Wealth-Management</td>\n",
       "      <td>2016-04-16</td>\n",
       "      <td></td>\n",
       "      <td>Current Employee</td>\n",
       "      <td>NaN</td>\n",
       "      <td>5</td>\n",
       "      <td>2.0</td>\n",
       "      <td>3.0</td>\n",
       "      <td>NaN</td>\n",
       "      <td>2.0</td>\n",
       "      <td>2.0</td>\n",
       "      <td>3.0</td>\n",
       "      <td>x</td>\n",
       "      <td>o</td>\n",
       "      <td>r</td>\n",
       "      <td>Over promised under delivered</td>\n",
       "      <td>Nice staff to work with</td>\n",
       "      <td>No career progression and salary is poor</td>\n",
       "    </tr>\n",
       "    <tr>\n",
       "      <th>4</th>\n",
       "      <td>AFH-Wealth-Management</td>\n",
       "      <td>2016-04-23</td>\n",
       "      <td>Office Administrator</td>\n",
       "      <td>Current Employee, more than 1 year</td>\n",
       "      <td>Bromsgrove, England, England</td>\n",
       "      <td>1</td>\n",
       "      <td>2.0</td>\n",
       "      <td>1.0</td>\n",
       "      <td>NaN</td>\n",
       "      <td>2.0</td>\n",
       "      <td>1.0</td>\n",
       "      <td>1.0</td>\n",
       "      <td>x</td>\n",
       "      <td>o</td>\n",
       "      <td>x</td>\n",
       "      <td>client reporting admin</td>\n",
       "      <td>Easy to get the job, Nice colleagues.</td>\n",
       "      <td>Abysmal pay, around minimum wage. No actual tr...</td>\n",
       "    </tr>\n",
       "  </tbody>\n",
       "</table>\n",
       "</div>"
      ],
      "text/plain": [
       "                    firm date_review              job_title  \\\n",
       "0  AFH-Wealth-Management  2015-04-05                          \n",
       "1  AFH-Wealth-Management  2015-12-11   Office Administrator   \n",
       "2  AFH-Wealth-Management  2016-01-28   Office Administrator   \n",
       "3  AFH-Wealth-Management  2016-04-16                          \n",
       "4  AFH-Wealth-Management  2016-04-23   Office Administrator   \n",
       "\n",
       "                              current                      location  \\\n",
       "0                    Current Employee                           NaN   \n",
       "1  Current Employee, more than 1 year  Bromsgrove, England, England   \n",
       "2  Current Employee, less than 1 year  Bromsgrove, England, England   \n",
       "3                    Current Employee                           NaN   \n",
       "4  Current Employee, more than 1 year  Bromsgrove, England, England   \n",
       "\n",
       "   overall_rating  work_life_balance  culture_values  diversity_inclusion  \\\n",
       "0               2                4.0             3.0                  NaN   \n",
       "1               2                3.0             1.0                  NaN   \n",
       "2               1                1.0             1.0                  NaN   \n",
       "3               5                2.0             3.0                  NaN   \n",
       "4               1                2.0             1.0                  NaN   \n",
       "\n",
       "   career_opp  comp_benefits  senior_mgmt recommend ceo_approv outlook  \\\n",
       "0         2.0            3.0          3.0         x          o       r   \n",
       "1         2.0            1.0          4.0         x          o       r   \n",
       "2         1.0            1.0          1.0         x          o       x   \n",
       "3         2.0            2.0          3.0         x          o       r   \n",
       "4         2.0            1.0          1.0         x          o       x   \n",
       "\n",
       "                                  headline  \\\n",
       "0  Young colleagues, poor micro management   \n",
       "1             Excellent staff, poor salary   \n",
       "2          Low salary, bad micromanagement   \n",
       "3            Over promised under delivered   \n",
       "4                   client reporting admin   \n",
       "\n",
       "                                                pros  \\\n",
       "0  Very friendly and welcoming to new staff. Easy...   \n",
       "1      Friendly, helpful and hard-working colleagues   \n",
       "2  Easy to get the job even without experience in...   \n",
       "3                            Nice staff to work with   \n",
       "4              Easy to get the job, Nice colleagues.   \n",
       "\n",
       "                                                cons  \n",
       "0    Poor salaries, poor training and communication.  \n",
       "1  Poor salary which doesn't improve much with pr...  \n",
       "2  Very low salary, poor working conditions, very...  \n",
       "3           No career progression and salary is poor  \n",
       "4  Abysmal pay, around minimum wage. No actual tr...  "
      ]
     },
     "execution_count": 2,
     "metadata": {},
     "output_type": "execute_result"
    }
   ],
   "source": [
    "# Load dataset\n",
    "df_job_reviews = pd.read_csv(\"glassdoor_reviews.csv\")\n",
    "df_job_reviews.head()"
   ]
  },
  {
   "cell_type": "markdown",
   "id": "886c62d1",
   "metadata": {},
   "source": [
    "La variable objetivo es recommend que tiene los siguientes valores:\n",
    "\n",
    "- v: Recomendación positiva de la empresa\n",
    "- x: Recomendación negativa de la empresa\n",
    "- o: Sin opinión."
   ]
  },
  {
   "cell_type": "markdown",
   "id": "79bb22aa",
   "metadata": {},
   "source": [
    "Voy a quitar las rows del dataset que estén sin opinión."
   ]
  },
  {
   "cell_type": "code",
   "execution_count": 3,
   "id": "f2b2085b",
   "metadata": {},
   "outputs": [],
   "source": [
    "df_job_reviews = df_job_reviews[df_job_reviews['recommend'] != 'o']"
   ]
  },
  {
   "cell_type": "markdown",
   "id": "8ad3eb3c",
   "metadata": {},
   "source": [
    "La parte de texto del dataset está en las columnas headline, pros y cons.\n",
    "\n",
    "Voy a juntar estas 3 columnas en una única."
   ]
  },
  {
   "cell_type": "code",
   "execution_count": 4,
   "id": "de871883",
   "metadata": {},
   "outputs": [],
   "source": [
    "df_job_reviews['text'] = df_job_reviews['headline'] + \" \" + df_job_reviews['pros'] + \" \" + df_job_reviews['cons']"
   ]
  },
  {
   "cell_type": "markdown",
   "id": "37bdf49a",
   "metadata": {},
   "source": [
    "Ahora voy a quitar todas las columnas del dataset a excepción del recommend y del text"
   ]
  },
  {
   "cell_type": "code",
   "execution_count": 5,
   "id": "964b4e37",
   "metadata": {},
   "outputs": [],
   "source": [
    "df_job_reviews = df_job_reviews[['text', 'recommend']].copy()"
   ]
  },
  {
   "cell_type": "markdown",
   "id": "f53d5132",
   "metadata": {},
   "source": [
    "Quitar valores nulos"
   ]
  },
  {
   "cell_type": "code",
   "execution_count": 6,
   "id": "277b0c26",
   "metadata": {},
   "outputs": [],
   "source": [
    "df_job_reviews = df_job_reviews.dropna()"
   ]
  },
  {
   "cell_type": "code",
   "execution_count": 7,
   "id": "6f47305e",
   "metadata": {},
   "outputs": [],
   "source": [
    "# Reset de índices\n",
    "df_job_reviews = df_job_reviews.reset_index().drop('index',axis=1)"
   ]
  },
  {
   "cell_type": "code",
   "execution_count": 8,
   "id": "0abf7a6c",
   "metadata": {},
   "outputs": [
    {
     "data": {
      "text/html": [
       "<div>\n",
       "<style scoped>\n",
       "    .dataframe tbody tr th:only-of-type {\n",
       "        vertical-align: middle;\n",
       "    }\n",
       "\n",
       "    .dataframe tbody tr th {\n",
       "        vertical-align: top;\n",
       "    }\n",
       "\n",
       "    .dataframe thead th {\n",
       "        text-align: right;\n",
       "    }\n",
       "</style>\n",
       "<table border=\"1\" class=\"dataframe\">\n",
       "  <thead>\n",
       "    <tr style=\"text-align: right;\">\n",
       "      <th></th>\n",
       "      <th>text</th>\n",
       "      <th>recommend</th>\n",
       "    </tr>\n",
       "  </thead>\n",
       "  <tbody>\n",
       "    <tr>\n",
       "      <th>0</th>\n",
       "      <td>Young colleagues, poor micro management Very f...</td>\n",
       "      <td>x</td>\n",
       "    </tr>\n",
       "    <tr>\n",
       "      <th>1</th>\n",
       "      <td>Excellent staff, poor salary Friendly, helpful...</td>\n",
       "      <td>x</td>\n",
       "    </tr>\n",
       "    <tr>\n",
       "      <th>2</th>\n",
       "      <td>Low salary, bad micromanagement Easy to get th...</td>\n",
       "      <td>x</td>\n",
       "    </tr>\n",
       "    <tr>\n",
       "      <th>3</th>\n",
       "      <td>Over promised under delivered Nice staff to wo...</td>\n",
       "      <td>x</td>\n",
       "    </tr>\n",
       "    <tr>\n",
       "      <th>4</th>\n",
       "      <td>client reporting admin Easy to get the job, Ni...</td>\n",
       "      <td>x</td>\n",
       "    </tr>\n",
       "  </tbody>\n",
       "</table>\n",
       "</div>"
      ],
      "text/plain": [
       "                                                text recommend\n",
       "0  Young colleagues, poor micro management Very f...         x\n",
       "1  Excellent staff, poor salary Friendly, helpful...         x\n",
       "2  Low salary, bad micromanagement Easy to get th...         x\n",
       "3  Over promised under delivered Nice staff to wo...         x\n",
       "4  client reporting admin Easy to get the job, Ni...         x"
      ]
     },
     "execution_count": 8,
     "metadata": {},
     "output_type": "execute_result"
    }
   ],
   "source": [
    "df_job_reviews.head()"
   ]
  },
  {
   "cell_type": "markdown",
   "id": "57bf70e4",
   "metadata": {},
   "source": [
    "Convertir los valores de recommend a:\n",
    "\n",
    "- 1 si es recomendado (v)\n",
    "- 0 si no (x)"
   ]
  },
  {
   "cell_type": "code",
   "execution_count": 9,
   "id": "b5745bd5",
   "metadata": {},
   "outputs": [
    {
     "data": {
      "text/html": [
       "<div>\n",
       "<style scoped>\n",
       "    .dataframe tbody tr th:only-of-type {\n",
       "        vertical-align: middle;\n",
       "    }\n",
       "\n",
       "    .dataframe tbody tr th {\n",
       "        vertical-align: top;\n",
       "    }\n",
       "\n",
       "    .dataframe thead th {\n",
       "        text-align: right;\n",
       "    }\n",
       "</style>\n",
       "<table border=\"1\" class=\"dataframe\">\n",
       "  <thead>\n",
       "    <tr style=\"text-align: right;\">\n",
       "      <th></th>\n",
       "      <th>text</th>\n",
       "      <th>recommend</th>\n",
       "    </tr>\n",
       "  </thead>\n",
       "  <tbody>\n",
       "    <tr>\n",
       "      <th>0</th>\n",
       "      <td>Young colleagues, poor micro management Very f...</td>\n",
       "      <td>0</td>\n",
       "    </tr>\n",
       "    <tr>\n",
       "      <th>1</th>\n",
       "      <td>Excellent staff, poor salary Friendly, helpful...</td>\n",
       "      <td>0</td>\n",
       "    </tr>\n",
       "    <tr>\n",
       "      <th>2</th>\n",
       "      <td>Low salary, bad micromanagement Easy to get th...</td>\n",
       "      <td>0</td>\n",
       "    </tr>\n",
       "    <tr>\n",
       "      <th>3</th>\n",
       "      <td>Over promised under delivered Nice staff to wo...</td>\n",
       "      <td>0</td>\n",
       "    </tr>\n",
       "    <tr>\n",
       "      <th>4</th>\n",
       "      <td>client reporting admin Easy to get the job, Ni...</td>\n",
       "      <td>0</td>\n",
       "    </tr>\n",
       "    <tr>\n",
       "      <th>...</th>\n",
       "      <td>...</td>\n",
       "      <td>...</td>\n",
       "    </tr>\n",
       "    <tr>\n",
       "      <th>603104</th>\n",
       "      <td>A great brand Family owned and a great brand. ...</td>\n",
       "      <td>1</td>\n",
       "    </tr>\n",
       "    <tr>\n",
       "      <th>603105</th>\n",
       "      <td>Awesome place to work It's a company with a cl...</td>\n",
       "      <td>1</td>\n",
       "    </tr>\n",
       "    <tr>\n",
       "      <th>603106</th>\n",
       "      <td>Just an awesome company to work for!!! Great c...</td>\n",
       "      <td>1</td>\n",
       "    </tr>\n",
       "    <tr>\n",
       "      <th>603107</th>\n",
       "      <td>not interested in growing their people loved b...</td>\n",
       "      <td>1</td>\n",
       "    </tr>\n",
       "    <tr>\n",
       "      <th>603108</th>\n",
       "      <td>I strongly recommend the LEGO Group as employe...</td>\n",
       "      <td>1</td>\n",
       "    </tr>\n",
       "  </tbody>\n",
       "</table>\n",
       "<p>603109 rows × 2 columns</p>\n",
       "</div>"
      ],
      "text/plain": [
       "                                                     text  recommend\n",
       "0       Young colleagues, poor micro management Very f...          0\n",
       "1       Excellent staff, poor salary Friendly, helpful...          0\n",
       "2       Low salary, bad micromanagement Easy to get th...          0\n",
       "3       Over promised under delivered Nice staff to wo...          0\n",
       "4       client reporting admin Easy to get the job, Ni...          0\n",
       "...                                                   ...        ...\n",
       "603104  A great brand Family owned and a great brand. ...          1\n",
       "603105  Awesome place to work It's a company with a cl...          1\n",
       "603106  Just an awesome company to work for!!! Great c...          1\n",
       "603107  not interested in growing their people loved b...          1\n",
       "603108  I strongly recommend the LEGO Group as employe...          1\n",
       "\n",
       "[603109 rows x 2 columns]"
      ]
     },
     "execution_count": 9,
     "metadata": {},
     "output_type": "execute_result"
    }
   ],
   "source": [
    "df_job_reviews['recommend'] = np.where(df_job_reviews['recommend'] == 'x', 0,1)\n",
    "df_job_reviews"
   ]
  },
  {
   "cell_type": "markdown",
   "id": "4a10dc3d",
   "metadata": {},
   "source": [
    "Para la clasificación de las reseñas de trabajo en las que recomiendan el trabajo\n",
    "y las que no, voy a utilizar el modelo de lenguaje BERT.\n",
    "\n",
    "Para utilizar este modelo instalé en mi ambiente de python la librería llamada `transformers`\n",
    "\n",
    "Primero obtengo el tokenizador del modelo ya preentrenado, y luego el modelo en sí"
   ]
  },
  {
   "cell_type": "code",
   "execution_count": 10,
   "id": "43f568ff",
   "metadata": {},
   "outputs": [
    {
     "name": "stderr",
     "output_type": "stream",
     "text": [
      "c:\\Users\\memor\\Documents\\Master\\Materias\\Semestre2\\Programacion2\\mcd-programacion2\\tareas\\challenge2\\.venv_c2\\Lib\\site-packages\\huggingface_hub\\file_download.py:144: UserWarning: `huggingface_hub` cache-system uses symlinks by default to efficiently store duplicated files but your machine does not support them in C:\\Users\\memor\\.cache\\huggingface\\hub\\models--nlptown--bert-base-multilingual-uncased-sentiment. Caching files will still work but in a degraded version that might require more space on your disk. This warning can be disabled by setting the `HF_HUB_DISABLE_SYMLINKS_WARNING` environment variable. For more details, see https://huggingface.co/docs/huggingface_hub/how-to-cache#limitations.\n",
      "To support symlinks on Windows, you either need to activate Developer Mode or to run Python as an administrator. In order to activate developer mode, see this article: https://docs.microsoft.com/en-us/windows/apps/get-started/enable-your-device-for-development\n",
      "  warnings.warn(message)\n"
     ]
    }
   ],
   "source": [
    "# Estas ligas vienen del sito HuggingFace.co:\n",
    "# https://huggingface.co/nlptown/bert-base-multilingual-uncased-sentiment\n",
    "# Es en un modelo para el análisis de sentimientos que funciona en 6 idiomas distintos,\n",
    "# entre ellos inglés y español, y regresa el sentimiento como un número del 1 al 5.\n",
    "tokenizer = AutoTokenizer.from_pretrained(\"nlptown/bert-base-multilingual-uncased-sentiment\")\n",
    "model = AutoModelForSequenceClassification.from_pretrained(\"nlptown/bert-base-multilingual-uncased-sentiment\")\n"
   ]
  },
  {
   "cell_type": "code",
   "execution_count": 11,
   "id": "65b79941",
   "metadata": {},
   "outputs": [],
   "source": [
    "text = \"Este ha sido el peor trabajo en el que he estado\"\n",
    "tokens = tokenizer.encode(text, return_tensors=\"pt\")"
   ]
  },
  {
   "cell_type": "code",
   "execution_count": 12,
   "id": "f68041f9",
   "metadata": {},
   "outputs": [
    {
     "data": {
      "text/plain": [
       "tensor([[  101, 10494, 10240, 12738, 10117, 89664, 15858, 10109, 10117, 10126,\n",
       "         10191, 10714,   102]])"
      ]
     },
     "execution_count": 12,
     "metadata": {},
     "output_type": "execute_result"
    }
   ],
   "source": [
    "# Ahora el texto se convirtió en un su representación de tokens\n",
    "tokens"
   ]
  },
  {
   "cell_type": "code",
   "execution_count": 13,
   "id": "996ec2ae",
   "metadata": {},
   "outputs": [
    {
     "data": {
      "text/plain": [
       "'[CLS] este ha sido el peor trabajo en el que he estado [SEP]'"
      ]
     },
     "execution_count": 13,
     "metadata": {},
     "output_type": "execute_result"
    }
   ],
   "source": [
    "# Y esto se puede regresar a lenguaje normal\n",
    "tokenizer.decode(tokens[0])"
   ]
  },
  {
   "cell_type": "code",
   "execution_count": 14,
   "id": "dbf6f8df",
   "metadata": {},
   "outputs": [],
   "source": [
    "# Ahora le podemos pedir al modelo que haga un análisis de sentimientos del texto\n",
    "result = model(tokens)"
   ]
  },
  {
   "cell_type": "code",
   "execution_count": 15,
   "id": "d142f18c",
   "metadata": {},
   "outputs": [
    {
     "data": {
      "text/plain": [
       "SequenceClassifierOutput(loss=None, logits=tensor([[ 3.9755,  1.8709, -0.1890, -2.6711, -2.2595]],\n",
       "       grad_fn=<AddmmBackward0>), hidden_states=None, attentions=None)"
      ]
     },
     "execution_count": 15,
     "metadata": {},
     "output_type": "execute_result"
    }
   ],
   "source": [
    "# Lo importarte del resultado es el tensor de probabilidades. Es un tensor de 5 elementos,\n",
    "# con 5 probabilidades distintas, el primer elemento es el peor sentimiento, el quinto es el mejor.\n",
    "result"
   ]
  },
  {
   "cell_type": "markdown",
   "id": "6bbf4ea7",
   "metadata": {},
   "source": [
    "El resultado dice que tiene 3.9 de calificación 1 y -2.26 de calificación 5, por\n",
    "lo que el modelo nos dice que el texto \"Este ha sido el peor trabajo en el que he estado\"\n",
    "indica un sentimiento muy malo. Es una reseña negativa."
   ]
  },
  {
   "cell_type": "code",
   "execution_count": 16,
   "id": "5b34e357",
   "metadata": {},
   "outputs": [
    {
     "data": {
      "text/plain": [
       "tensor(0)"
      ]
     },
     "execution_count": 16,
     "metadata": {},
     "output_type": "execute_result"
    }
   ],
   "source": [
    "torch.argmax(result.logits)"
   ]
  },
  {
   "cell_type": "code",
   "execution_count": 17,
   "id": "4ff1ac4b",
   "metadata": {},
   "outputs": [
    {
     "data": {
      "text/plain": [
       "SequenceClassifierOutput(loss=None, logits=tensor([[-2.7409, -2.9552, -0.7080,  2.0021,  3.4833]],\n",
       "       grad_fn=<AddmmBackward0>), hidden_states=None, attentions=None)"
      ]
     },
     "execution_count": 17,
     "metadata": {},
     "output_type": "execute_result"
    }
   ],
   "source": [
    "text = \"Fascinante trabajo, trabajar aquí es genial!\"\n",
    "tokens = tokenizer.encode(text, return_tensors=\"pt\")\n",
    "tokenizer.decode(tokens[0])\n",
    "result = model(tokens)\n",
    "result"
   ]
  },
  {
   "cell_type": "markdown",
   "id": "70858037",
   "metadata": {},
   "source": [
    "Para una buena review, regresa 3.48 en la quinta posición. Esto indica que la reseña\n",
    "es muy buena"
   ]
  },
  {
   "cell_type": "markdown",
   "id": "ca596719",
   "metadata": {},
   "source": [
    "Ahora hay que utilizar este modelo para hacer el análisis de sentimientos del dataset de\n",
    "reseñas de trabajo de kaggle."
   ]
  },
  {
   "cell_type": "code",
   "execution_count": 18,
   "id": "845e6cf5",
   "metadata": {},
   "outputs": [],
   "source": [
    "def get_review_sentiment(review):\n",
    "    tokens = tokenizer.encode(review, return_tensors=\"pt\")\n",
    "    tokenizer.decode(tokens[0])\n",
    "    result = model(tokens)\n",
    "    # Get biggest probability from 0 to 4\n",
    "    sentiment = torch.argmax(result.logits)\n",
    "    # If sentiment is 0,1 or 2 return 0: Negative sentiment\n",
    "    if sentiment <= 2:\n",
    "        return 0\n",
    "    # else, return 1: possitive sentiment\n",
    "    return 1"
   ]
  },
  {
   "cell_type": "code",
   "execution_count": 19,
   "id": "7b0a4582",
   "metadata": {},
   "outputs": [
    {
     "data": {
      "text/html": [
       "<div>\n",
       "<style scoped>\n",
       "    .dataframe tbody tr th:only-of-type {\n",
       "        vertical-align: middle;\n",
       "    }\n",
       "\n",
       "    .dataframe tbody tr th {\n",
       "        vertical-align: top;\n",
       "    }\n",
       "\n",
       "    .dataframe thead th {\n",
       "        text-align: right;\n",
       "    }\n",
       "</style>\n",
       "<table border=\"1\" class=\"dataframe\">\n",
       "  <thead>\n",
       "    <tr style=\"text-align: right;\">\n",
       "      <th></th>\n",
       "      <th>text</th>\n",
       "      <th>recommend</th>\n",
       "    </tr>\n",
       "  </thead>\n",
       "  <tbody>\n",
       "    <tr>\n",
       "      <th>452565</th>\n",
       "      <td>Telco Accounts Storage Sales Executive Global ...</td>\n",
       "      <td>1</td>\n",
       "    </tr>\n",
       "    <tr>\n",
       "      <th>545362</th>\n",
       "      <td>good company good company. Nice team. I enjoy ...</td>\n",
       "      <td>1</td>\n",
       "    </tr>\n",
       "    <tr>\n",
       "      <th>356569</th>\n",
       "      <td>Overall satisfied with my experience at Marrio...</td>\n",
       "      <td>1</td>\n",
       "    </tr>\n",
       "    <tr>\n",
       "      <th>347170</th>\n",
       "      <td>Vendor Manager for Shared Services Team Strong...</td>\n",
       "      <td>0</td>\n",
       "    </tr>\n",
       "    <tr>\n",
       "      <th>447251</th>\n",
       "      <td>Applications Engineer Great place to learn, go...</td>\n",
       "      <td>1</td>\n",
       "    </tr>\n",
       "    <tr>\n",
       "      <th>...</th>\n",
       "      <td>...</td>\n",
       "      <td>...</td>\n",
       "    </tr>\n",
       "    <tr>\n",
       "      <th>53407</th>\n",
       "      <td>A good place to work Professional work environ...</td>\n",
       "      <td>1</td>\n",
       "    </tr>\n",
       "    <tr>\n",
       "      <th>235654</th>\n",
       "      <td>Hays Review Great training\\r\\nEveryone is supp...</td>\n",
       "      <td>1</td>\n",
       "    </tr>\n",
       "    <tr>\n",
       "      <th>265346</th>\n",
       "      <td>Project Manager Good benefits, flexible work s...</td>\n",
       "      <td>1</td>\n",
       "    </tr>\n",
       "    <tr>\n",
       "      <th>50633</th>\n",
       "      <td>An wonderful experience good work conditions, ...</td>\n",
       "      <td>1</td>\n",
       "    </tr>\n",
       "    <tr>\n",
       "      <th>254938</th>\n",
       "      <td>Proud history but behind the times in terms of...</td>\n",
       "      <td>0</td>\n",
       "    </tr>\n",
       "  </tbody>\n",
       "</table>\n",
       "<p>200 rows × 2 columns</p>\n",
       "</div>"
      ],
      "text/plain": [
       "                                                     text  recommend\n",
       "452565  Telco Accounts Storage Sales Executive Global ...          1\n",
       "545362  good company good company. Nice team. I enjoy ...          1\n",
       "356569  Overall satisfied with my experience at Marrio...          1\n",
       "347170  Vendor Manager for Shared Services Team Strong...          0\n",
       "447251  Applications Engineer Great place to learn, go...          1\n",
       "...                                                   ...        ...\n",
       "53407   A good place to work Professional work environ...          1\n",
       "235654  Hays Review Great training\\r\\nEveryone is supp...          1\n",
       "265346  Project Manager Good benefits, flexible work s...          1\n",
       "50633   An wonderful experience good work conditions, ...          1\n",
       "254938  Proud history but behind the times in terms of...          0\n",
       "\n",
       "[200 rows x 2 columns]"
      ]
     },
     "execution_count": 19,
     "metadata": {},
     "output_type": "execute_result"
    }
   ],
   "source": [
    "# Hacer la predicción para las 603109 filas que tiene el dataset tomaría muchísmo tiempo,\n",
    "# por lo que voy a obtener un subset para probar qué tan bien funciona el modelo.\n",
    "sample_size = 200\n",
    "df_sample = df_job_reviews.sample(sample_size)\n",
    "df_sample"
   ]
  },
  {
   "cell_type": "code",
   "execution_count": 20,
   "id": "89dc81db",
   "metadata": {},
   "outputs": [
    {
     "name": "stdout",
     "output_type": "stream",
     "text": [
      "Predicting 1 of 200\n",
      "Predicting 2 of 200\n",
      "Predicting 3 of 200\n",
      "Predicting 4 of 200\n",
      "Predicting 5 of 200\n",
      "Predicting 6 of 200\n",
      "Predicting 7 of 200\n",
      "Predicting 8 of 200\n",
      "Predicting 9 of 200\n",
      "Predicting 10 of 200\n",
      "Predicting 11 of 200\n",
      "Predicting 12 of 200\n",
      "Predicting 13 of 200\n",
      "Predicting 14 of 200\n",
      "Predicting 15 of 200\n",
      "Predicting 16 of 200\n",
      "Predicting 17 of 200\n",
      "Predicting 18 of 200\n",
      "Predicting 19 of 200\n",
      "Predicting 20 of 200\n",
      "Predicting 21 of 200\n",
      "Predicting 22 of 200\n",
      "Predicting 23 of 200\n",
      "Predicting 24 of 200\n",
      "Predicting 25 of 200\n",
      "Predicting 26 of 200\n",
      "Predicting 27 of 200\n",
      "Predicting 28 of 200\n",
      "Predicting 29 of 200\n",
      "Predicting 30 of 200\n",
      "Predicting 31 of 200\n",
      "Predicting 32 of 200\n",
      "Predicting 33 of 200\n",
      "Predicting 34 of 200\n",
      "Predicting 35 of 200\n",
      "Predicting 36 of 200\n",
      "Predicting 37 of 200\n",
      "Predicting 38 of 200\n",
      "Predicting 39 of 200\n",
      "Predicting 40 of 200\n",
      "Predicting 41 of 200\n",
      "Predicting 42 of 200\n",
      "Predicting 43 of 200\n",
      "Predicting 44 of 200\n",
      "Predicting 45 of 200\n",
      "Predicting 46 of 200\n",
      "Predicting 47 of 200\n",
      "Predicting 48 of 200\n",
      "Predicting 49 of 200\n",
      "Predicting 50 of 200\n",
      "Predicting 51 of 200\n",
      "Predicting 52 of 200\n",
      "Predicting 53 of 200\n",
      "Predicting 54 of 200\n",
      "Predicting 55 of 200\n",
      "Predicting 56 of 200\n",
      "Predicting 57 of 200\n",
      "Predicting 58 of 200\n",
      "Predicting 59 of 200\n",
      "Predicting 60 of 200\n",
      "Predicting 61 of 200\n",
      "Predicting 62 of 200\n",
      "Predicting 63 of 200\n",
      "Predicting 64 of 200\n",
      "Predicting 65 of 200\n",
      "Predicting 66 of 200\n",
      "Predicting 67 of 200\n",
      "Predicting 68 of 200\n",
      "Predicting 69 of 200\n",
      "Predicting 70 of 200\n",
      "Predicting 71 of 200\n",
      "Predicting 72 of 200\n",
      "Predicting 73 of 200\n",
      "Predicting 74 of 200\n",
      "Predicting 75 of 200\n",
      "Predicting 76 of 200\n",
      "Predicting 77 of 200\n",
      "Predicting 78 of 200\n",
      "Predicting 79 of 200\n",
      "Predicting 80 of 200\n",
      "Predicting 81 of 200\n",
      "Predicting 82 of 200\n",
      "Predicting 83 of 200\n",
      "Predicting 84 of 200\n",
      "Predicting 85 of 200\n",
      "Predicting 86 of 200\n",
      "Predicting 87 of 200\n",
      "Predicting 88 of 200\n",
      "Predicting 89 of 200\n",
      "Predicting 90 of 200\n",
      "Predicting 91 of 200\n",
      "Predicting 92 of 200\n",
      "Predicting 93 of 200\n",
      "Predicting 94 of 200\n",
      "Predicting 95 of 200\n",
      "Predicting 96 of 200\n",
      "Predicting 97 of 200\n",
      "Predicting 98 of 200\n",
      "Predicting 99 of 200\n",
      "Predicting 100 of 200\n",
      "Predicting 101 of 200\n",
      "Predicting 102 of 200\n",
      "Predicting 103 of 200\n",
      "Predicting 104 of 200\n",
      "Predicting 105 of 200\n",
      "Predicting 106 of 200\n",
      "Predicting 107 of 200\n",
      "Predicting 108 of 200\n",
      "Predicting 109 of 200\n",
      "Predicting 110 of 200\n",
      "Predicting 111 of 200\n",
      "Predicting 112 of 200\n",
      "Predicting 113 of 200\n",
      "Predicting 114 of 200\n",
      "Predicting 115 of 200\n",
      "Predicting 116 of 200\n",
      "Predicting 117 of 200\n",
      "Predicting 118 of 200\n",
      "Predicting 119 of 200\n",
      "Predicting 120 of 200\n",
      "Predicting 121 of 200\n",
      "Predicting 122 of 200\n",
      "Predicting 123 of 200\n",
      "Predicting 124 of 200\n",
      "Predicting 125 of 200\n",
      "Predicting 126 of 200\n",
      "Predicting 127 of 200\n",
      "Predicting 128 of 200\n",
      "Predicting 129 of 200\n",
      "Predicting 130 of 200\n",
      "Predicting 131 of 200\n",
      "Predicting 132 of 200\n",
      "Predicting 133 of 200\n",
      "Predicting 134 of 200\n",
      "Predicting 135 of 200\n",
      "Predicting 136 of 200\n",
      "Predicting 137 of 200\n",
      "Predicting 138 of 200\n",
      "Predicting 139 of 200\n",
      "Predicting 140 of 200\n",
      "Predicting 141 of 200\n",
      "Predicting 142 of 200\n",
      "Predicting 143 of 200\n",
      "Predicting 144 of 200\n",
      "Predicting 145 of 200\n",
      "Predicting 146 of 200\n",
      "Predicting 147 of 200\n",
      "Predicting 148 of 200\n",
      "Predicting 149 of 200\n",
      "Predicting 150 of 200\n",
      "Predicting 151 of 200\n",
      "Predicting 152 of 200\n",
      "Predicting 153 of 200\n",
      "Predicting 154 of 200\n",
      "Predicting 155 of 200\n",
      "Predicting 156 of 200\n",
      "Predicting 157 of 200\n",
      "Predicting 158 of 200\n",
      "Predicting 159 of 200\n",
      "Predicting 160 of 200\n",
      "Predicting 161 of 200\n",
      "Predicting 162 of 200\n",
      "Predicting 163 of 200\n",
      "Predicting 164 of 200\n",
      "Predicting 165 of 200\n",
      "Predicting 166 of 200\n",
      "Predicting 167 of 200\n",
      "Predicting 168 of 200\n",
      "Predicting 169 of 200\n",
      "Predicting 170 of 200\n",
      "Predicting 171 of 200\n",
      "Predicting 172 of 200\n",
      "Predicting 173 of 200\n",
      "Predicting 174 of 200\n",
      "Predicting 175 of 200\n",
      "Predicting 176 of 200\n",
      "Predicting 177 of 200\n",
      "Predicting 178 of 200\n",
      "Predicting 179 of 200\n",
      "Predicting 180 of 200\n",
      "Predicting 181 of 200\n",
      "Predicting 182 of 200\n",
      "Predicting 183 of 200\n",
      "Predicting 184 of 200\n",
      "Predicting 185 of 200\n",
      "Predicting 186 of 200\n",
      "Predicting 187 of 200\n",
      "Predicting 188 of 200\n",
      "Predicting 189 of 200\n",
      "Predicting 190 of 200\n",
      "Predicting 191 of 200\n",
      "Predicting 192 of 200\n",
      "Predicting 193 of 200\n",
      "Predicting 194 of 200\n",
      "Predicting 195 of 200\n",
      "Predicting 196 of 200\n",
      "Predicting 197 of 200\n",
      "Predicting 198 of 200\n",
      "Predicting 199 of 200\n",
      "Predicting 200 of 200\n"
     ]
    }
   ],
   "source": [
    "predictions_recommend = []\n",
    "len_df = len(df_sample.index)\n",
    "i = 1\n",
    "for index, row in df_sample.iterrows():\n",
    "    print(f\"Predicting {i} of {len_df}\")\n",
    "    # El modelo tiene un límite de 512 tokens que puede analizar a la vez. Por eso\n",
    "    # obtengo únicamente los primeros 512 tokens\n",
    "    pred_rec = get_review_sentiment(row['text'][:512])\n",
    "    predictions_recommend.append(pred_rec)\n",
    "    i = i + 1"
   ]
  },
  {
   "cell_type": "code",
   "execution_count": 21,
   "id": "1c5d918c",
   "metadata": {},
   "outputs": [
    {
     "name": "stdout",
     "output_type": "stream",
     "text": [
      "[[ 46  14]\n",
      " [ 32 108]]\n",
      "0.8852459016393442\n",
      "0.77\n"
     ]
    }
   ],
   "source": [
    "y_test = df_sample['recommend']\n",
    "y_pred = predictions_recommend\n",
    "cm = confusion_matrix(y_test, y_pred)\n",
    "precision = precision_score(y_test, y_pred)\n",
    "accuracy = accuracy_score(y_test, y_pred)\n",
    "print(cm)\n",
    "print(precision)\n",
    "print(accuracy)\n"
   ]
  }
 ],
 "metadata": {
  "kernelspec": {
   "display_name": "venv_c2",
   "language": "python",
   "name": "venv_c2"
  },
  "language_info": {
   "codemirror_mode": {
    "name": "ipython",
    "version": 3
   },
   "file_extension": ".py",
   "mimetype": "text/x-python",
   "name": "python",
   "nbconvert_exporter": "python",
   "pygments_lexer": "ipython3",
   "version": "3.12.5"
  }
 },
 "nbformat": 4,
 "nbformat_minor": 5
}
