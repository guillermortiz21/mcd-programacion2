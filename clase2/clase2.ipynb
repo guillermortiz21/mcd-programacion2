{
 "cells": [
  {
   "cell_type": "markdown",
   "metadata": {},
   "source": [
    "# Unidad 1: Ciencia de datos con python"
   ]
  },
  {
   "cell_type": "markdown",
   "metadata": {},
   "source": [
    "## Ciencia de datos"
   ]
  },
  {
   "cell_type": "markdown",
   "metadata": {},
   "source": [
    "Inteligencia artificial: Area de las ciencias computacionales, busca\n",
    "resolver problemas similares a la inteligencia humana: predicción, persepciones,\n",
    "visualización. \n",
    "\n",
    "Tiene sus ramas:\n",
    "\n",
    "- AI\n",
    "\n",
    "- Machine Learning: Técnica que usa algoritmos con datos numéricos y categóricos,\n",
    "estos datos en conjunto nos dicen algo, nos dan información. Hay modelos supervisados\n",
    "(con una etiqueta) y no supervisados (sin etiqueta, busca similaridades entre los\n",
    "datos, busca patrones. Se usan mucho para preprocesamiento.)\n",
    "\n",
    "- Deep Learning: Usa redes neuronales, convolucionales, RNN. Clasificaciones de \n",
    "imágenes, procesamiento de lenguaje natural.\n",
    "\n",
    "- Language large modeling models\n",
    "\n",
    "\n",
    "Al iniciar con cualquier problema hay que preguntarnos: ¿Cómo son los datos?\n",
    "es texto, audio, imágenes? Y sobre esto ya sabemos cómo atacar el problema y con\n",
    "qué técnicas.\n",
    "\n",
    "Es importante tener datos, y tener muchos. Pocos datos pueden generar malas\n",
    "predicciones.\n",
    "\n",
    "Pero hay técnicas para generar data de forma sintética, aunque lo ideal es que\n",
    "salgan de forma natural."
   ]
  },
  {
   "cell_type": "markdown",
   "metadata": {},
   "source": [
    "Para la IA necesitamos dos cosas: Hardware y Software.\n",
    "\n",
    "- Software: VsCode, Anaconda, Python, R, R studio, Java, Cython, numba.\n",
    "\n",
    "- Hardware: cpus, ram, hdd, etc. Conforme se hace más pesado el algoritmo, hay\n",
    "más data, se necesita más hardware. "
   ]
  },
  {
   "cell_type": "markdown",
   "metadata": {},
   "source": [
    "## Proceso de ciencia de datos"
   ]
  },
  {
   "cell_type": "markdown",
   "metadata": {},
   "source": [
    "- Entendimiento del negocio: Se debe entender el negocio. Cuál es el área del \n",
    "negocio? Cuál es el contexto? Qué otras áreas están en los proyecto? (No \n",
    "necesariamente sé de medicina, pero debo entender los datos con los que\n",
    "estoy trabajando.) Qué variables afectan?"
   ]
  },
  {
   "cell_type": "markdown",
   "metadata": {},
   "source": [
    "- Entendimiento de los datos: Ya tienes los datos, están normalizados, genial.\n",
    "¿y qué son los datos? ¿Hay data atípica? Justificar por qué se quitan los\n",
    "atípicos. Aplicar estadística descriptiva y diferencial conociendo la data.\n",
    "Hay que normalizar, estandarizar, hacer el preprocesamiento."
   ]
  },
  {
   "cell_type": "markdown",
   "metadata": {},
   "source": [
    "- Preparación de los datos: "
   ]
  },
  {
   "cell_type": "markdown",
   "metadata": {},
   "source": [
    "- Modelado: Entender la parte matemática del modelo, hay que evidenciar cómo\n",
    "funcionan las matemáticas del modelo, cómo funcionan los datos matemáticamente\n",
    "hablando. Especificar bien qué hace cada una de las variables y los parámetros\n",
    "del modelo."
   ]
  },
  {
   "cell_type": "markdown",
   "metadata": {},
   "source": [
    "- Evaluación: Set de entrenamiento y de pruebas. Ver métricas, son distintas\n",
    "para datos numéricos y para categóricos. La evaluación se revisa con la\n",
    "hipótesis nula. F-score, curvas roc, etc. ¿Está sobreentrenado?"
   ]
  },
  {
   "cell_type": "markdown",
   "metadata": {},
   "source": [
    "- Despliegue:"
   ]
  },
  {
   "cell_type": "markdown",
   "metadata": {},
   "source": [
    "## Librerías"
   ]
  },
  {
   "cell_type": "markdown",
   "metadata": {},
   "source": [
    "## Numpy"
   ]
  },
  {
   "cell_type": "markdown",
   "metadata": {},
   "source": [
    "Librería de python, trabaja con arrays, vectores o matrices.\n",
    "\n",
    "Esta designada para todo lo relacionado a álgebra lineal.\n",
    "\n",
    "-Dimensión 0: escalar. Es un número, del -inf al inf. 1,2,3,4....\n",
    "\n",
    "-Dimensión 1: Vector. Puede ser renglón o columna. [a1, a2, a3,...,an].\n",
    "Cada elemento de este vector tiene una posición, un índice. Hay suma, resta,\n",
    "multiplicación, etc. \n",
    "\n",
    "-Dimensión 2,3: Matriz. Esto ya es una tabla de datos con filas y columnas (nxm)\n",
    "\n",
    "-Dimensión >=4: Tensor."
   ]
  },
  {
   "cell_type": "code",
   "execution_count": 2,
   "metadata": {},
   "outputs": [
    {
     "name": "stdout",
     "output_type": "stream",
     "text": [
      "[5, 7]\n"
     ]
    }
   ],
   "source": [
    "a = [1,3,5,7,9]\n",
    "print(a[2:4]) # Indexado en cero"
   ]
  }
 ],
 "metadata": {
  "kernelspec": {
   "display_name": "programacion2",
   "language": "python",
   "name": "python3"
  },
  "language_info": {
   "codemirror_mode": {
    "name": "ipython",
    "version": 3
   },
   "file_extension": ".py",
   "mimetype": "text/x-python",
   "name": "python",
   "nbconvert_exporter": "python",
   "pygments_lexer": "ipython3",
   "version": "3.10.16"
  }
 },
 "nbformat": 4,
 "nbformat_minor": 2
}
